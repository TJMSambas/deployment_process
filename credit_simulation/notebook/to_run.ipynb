{
 "cells": [
  {
   "cell_type": "code",
   "execution_count": 8,
   "metadata": {
    "ExecuteTime": {
     "end_time": "2019-11-21T04:01:27.198500Z",
     "start_time": "2019-11-21T04:01:25.998500Z"
    }
   },
   "outputs": [
    {
     "name": "stdout",
     "output_type": "stream",
     "text": [
      "[0]\n"
     ]
    }
   ],
   "source": [
    "# %load request.py\n",
    "import requests\n",
    "import json\n",
    "\n",
    "# URL\n",
    "# url = 'http://localhost:5000/api'\n",
    "url = 'http://trisambas.pythonanywhere.com/api'\n",
    "\n",
    "# Change the value of experience that you want to test\n",
    "single_test_data = True\n",
    "if single_test_data:\n",
    "    payload = {0: {'present_res_since': 4,\n",
    "                      'duration_in_month': 6,\n",
    "                      'credits_this_bank': 2,\n",
    "                      'credit_amount': 1169,\n",
    "                      'property': 'real estate',\n",
    "                      'savings': 'unknown/ no savings account',\n",
    "                      'present_emp_since': '.. >= 7 years',\n",
    "                      'account_check_status': '< 0 DM',\n",
    "                      'installment_as_income_perc': 4,\n",
    "                      'job': 'skilled employee / official',\n",
    "                      'other_debtors': 'none',\n",
    "                      'foreign_worker': 'yes',\n",
    "                      'credit_history': 'critical account/ other credits existing (not at this bank)',\n",
    "                      'telephone': 'yes, registered under the customers name ',\n",
    "                      'other_installment_plans': 'none',\n",
    "                      'housing': 'own',\n",
    "                      'people_under_maintenance': 1,\n",
    "                      'age': 67,\n",
    "                      'purpose': 'domestic appliances',\n",
    "                      'personal_status_sex': 'male : single'}}\n",
    "else:\n",
    "    with open('test_data.json', 'r') as json_file:\n",
    "        payload = json.load(json_file)\n",
    "        payload = json.loads(payload)\n",
    "\n",
    "r = requests.post(url, json = payload)\n",
    "\n",
    "print(r.json())"
   ]
  },
  {
   "cell_type": "code",
   "execution_count": null,
   "metadata": {},
   "outputs": [],
   "source": []
  }
 ],
 "metadata": {
  "kernelspec": {
   "display_name": "Python 3",
   "language": "python",
   "name": "python3"
  },
  "language_info": {
   "codemirror_mode": {
    "name": "ipython",
    "version": 3
   },
   "file_extension": ".py",
   "mimetype": "text/x-python",
   "name": "python",
   "nbconvert_exporter": "python",
   "pygments_lexer": "ipython3",
   "version": "3.7.3"
  },
  "toc": {
   "base_numbering": 1,
   "nav_menu": {},
   "number_sections": true,
   "sideBar": true,
   "skip_h1_title": false,
   "title_cell": "Table of Contents",
   "title_sidebar": "Contents",
   "toc_cell": false,
   "toc_position": {},
   "toc_section_display": true,
   "toc_window_display": false
  }
 },
 "nbformat": 4,
 "nbformat_minor": 2
}
